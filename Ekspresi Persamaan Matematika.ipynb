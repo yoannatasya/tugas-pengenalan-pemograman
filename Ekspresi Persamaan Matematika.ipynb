{
 "cells": [
  {
   "cell_type": "markdown",
   "id": "45173a9d",
   "metadata": {},
   "source": [
    "## Ekspresi Persamaan Matematika"
   ]
  },
  {
   "cell_type": "markdown",
   "id": "6ec038af",
   "metadata": {},
   "source": [
    "### Penjumlahan Sederhana"
   ]
  },
  {
   "cell_type": "code",
   "execution_count": null,
   "id": "617e44a5",
   "metadata": {},
   "outputs": [],
   "source": [
    "# Input bilangan dari pengguna\n",
    "bilangan1 = float(input(\"Masukkan bilangan pertama: \"))\n",
    "bilangan2 = float(input(\"Masukkan bilangan kedua: \"))\n",
    "\n",
    "# Hitung penjumlahan\n",
    "hasil = bilangan1 + bilangan2\n",
    "\n",
    "# Cetak hasil\n",
    "print(\"Hasil penjumlahan:\", hasil)\n"
   ]
  },
  {
   "cell_type": "markdown",
   "id": "5a18bd21",
   "metadata": {},
   "source": [
    "### Pangkat (Eksponensial)"
   ]
  },
  {
   "cell_type": "code",
   "execution_count": null,
   "id": "d8baa4f2",
   "metadata": {},
   "outputs": [],
   "source": [
    "# Input basis dan eksponen dari pengguna\n",
    "basis = float(input(\"Masukkan basis: \"))\n",
    "eksponen = float(input(\"Masukkan eksponen: \"))\n",
    "\n",
    "# Hitung hasil pangkat\n",
    "hasil = basis ** eksponen\n",
    "\n",
    "# Cetak hasil\n",
    "print(\"Hasil pangkat:\", hasil)"
   ]
  },
  {
   "cell_type": "markdown",
   "id": "33f29442",
   "metadata": {},
   "source": [
    "### Sisa Bagi (Modulo)"
   ]
  },
  {
   "cell_type": "code",
   "execution_count": null,
   "id": "eddcbed3",
   "metadata": {},
   "outputs": [],
   "source": [
    "# Input bilangan dari pengguna\n",
    "bilangan1 = int(input(\"Masukkan bilangan pertama (integer): \"))\n",
    "bilangan2 = int(input(\"Masukkan bilangan kedua (integer): \"))\n",
    "\n",
    "# Hitung sisa bagi\n",
    "hasil = bilangan1 % bilangan2\n",
    "\n",
    "# Cetak hasil\n",
    "print(\"Sisa bagi:\", hasil)\n"
   ]
  },
  {
   "cell_type": "markdown",
   "id": "b2f58989",
   "metadata": {},
   "source": [
    "### Akar Kuadrat"
   ]
  },
  {
   "cell_type": "code",
   "execution_count": null,
   "id": "6a47cdb2",
   "metadata": {},
   "outputs": [],
   "source": [
    "import math\n",
    "\n",
    "# Input bilangan dari pengguna\n",
    "bilangan = float(input(\"Masukkan bilangan: \"))\n",
    "\n",
    "# Hitung akar kuadrat\n",
    "hasil = math.sqrt(bilangan)\n",
    "\n",
    "# Cetak hasil\n",
    "print(\"Akar kuadrat:\", hasil)\n"
   ]
  },
  {
   "cell_type": "markdown",
   "id": "fc5c7cf7",
   "metadata": {},
   "source": [
    "### Luas Segita"
   ]
  },
  {
   "cell_type": "code",
   "execution_count": null,
   "id": "21260eb0",
   "metadata": {},
   "outputs": [],
   "source": [
    "# Input tinggi dan alas segitiga dari pengguna\n",
    "tinggi = float(input(\"Masukkan tinggi segitiga: \"))\n",
    "alas = float(input(\"Masukkan alas segitiga: \"))\n",
    "\n",
    "# Hitung luas segitiga\n",
    "luas = 0.5 * tinggi * alas\n",
    "\n",
    "# Cetak hasil\n",
    "print(\"Luas segitiga:\", luas)\n"
   ]
  },
  {
   "cell_type": "markdown",
   "id": "b697dc1d",
   "metadata": {},
   "source": [
    "### Konversi satuan panjang"
   ]
  },
  {
   "cell_type": "code",
   "execution_count": null,
   "id": "e1196cdd",
   "metadata": {},
   "outputs": [],
   "source": [
    "# Input panjang dalam meter dari pengguna\n",
    "panjang_meter = float(input(\"Masukkan panjang dalam meter: \"))\n",
    "\n",
    "# Konversi panjang ke kilometer dan sentimeter\n",
    "panjang_kilometer = panjang_meter / 1000\n",
    "panjang_sentimeter = panjang_meter * 100\n",
    "\n",
    "# Cetak hasil\n",
    "print(\"Panjang dalam kilometer:\", panjang_kilometer)\n",
    "print(\"Panjang dalam sentimeter:\", panjang_sentimeter)"
   ]
  },
  {
   "cell_type": "markdown",
   "id": "f73f3eaa",
   "metadata": {},
   "source": [
    "### Bilangan Faktorial"
   ]
  },
  {
   "cell_type": "code",
   "execution_count": 27,
   "id": "d7103f18",
   "metadata": {},
   "outputs": [
    {
     "name": "stdout",
     "output_type": "stream",
     "text": [
      "Masukkan bilangan bulat positif: 5\n",
      "Faktorial dari 5 adalah 120\n"
     ]
    }
   ],
   "source": [
    "# Input bilangan bulat positif dari pengguna\n",
    "n = int(input(\"Masukkan bilangan bulat positif: \"))\n",
    "\n",
    "# Inisialisasi hasil dengan nilai awal 1\n",
    "hasil = 1\n",
    "\n",
    "# Hitung faktorial\n",
    "for i in range(1, n + 1):\n",
    "    hasil *= i\n",
    "\n",
    "# Cetak hasil\n",
    "print(f\"Faktorial dari {n} adalah {hasil}\")\n"
   ]
  }
 ],
 "metadata": {
  "kernelspec": {
   "display_name": "Python 3 (ipykernel)",
   "language": "python",
   "name": "python3"
  },
  "language_info": {
   "codemirror_mode": {
    "name": "ipython",
    "version": 3
   },
   "file_extension": ".py",
   "mimetype": "text/x-python",
   "name": "python",
   "nbconvert_exporter": "python",
   "pygments_lexer": "ipython3",
   "version": "3.12.4"
  },
  "toc": {
   "base_numbering": 1,
   "nav_menu": {},
   "number_sections": false,
   "sideBar": true,
   "skip_h1_title": false,
   "title_cell": "Table of Contents",
   "title_sidebar": "Contents",
   "toc_cell": false,
   "toc_position": {
    "height": "calc(100% - 180px)",
    "left": "10px",
    "top": "150px",
    "width": "165px"
   },
   "toc_section_display": true,
   "toc_window_display": true
  }
 },
 "nbformat": 4,
 "nbformat_minor": 5
}
