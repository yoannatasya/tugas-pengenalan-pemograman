{
 "cells": [
  {
   "cell_type": "markdown",
   "id": "7944dea2-8cb5-425d-8e5a-9121feb496cb",
   "metadata": {},
   "source": [
    "## NAMA  : YOAN NATASYA AGUSTIN SEBASTIAN ##\n",
    "## NIM   : 103102430001 ##\n",
    "## KELAS : DS-04-02 ##\n"
   ]
  },
  {
   "cell_type": "markdown",
   "id": "f2292d99-131e-42a8-9dcb-66eaed3f59b2",
   "metadata": {},
   "source": [
    "# Tipe Data & Operator Python #"
   ]
  },
  {
   "cell_type": "markdown",
   "id": "d6690af3-0fbb-4341-a9f4-421a2fd4627c",
   "metadata": {},
   "source": [
    "### How to print ###"
   ]
  },
  {
   "cell_type": "code",
   "execution_count": 10,
   "id": "3244edd9-4db7-406a-a391-5bb71ae7e55e",
   "metadata": {},
   "outputs": [
    {
     "name": "stdout",
     "output_type": "stream",
     "text": [
      "Hello, World!\n"
     ]
    }
   ],
   "source": [
    "print(\"Hello, World!\")"
   ]
  },
  {
   "cell_type": "code",
   "execution_count": 12,
   "id": "b597d6f4-18d7-47ae-81c4-854d30a5ac0c",
   "metadata": {},
   "outputs": [
    {
     "name": "stdout",
     "output_type": "stream",
     "text": [
      "Hello, World!\n"
     ]
    }
   ],
   "source": [
    "print(f\"Hello, World!\")"
   ]
  },
  {
   "cell_type": "markdown",
   "id": "924f9d9b-2aeb-4575-b197-3994844526be",
   "metadata": {},
   "source": [
    "### Komentar ###"
   ]
  },
  {
   "cell_type": "code",
   "execution_count": 17,
   "id": "1ed14d82-1d6f-4faf-bc6c-fd23f51bf8aa",
   "metadata": {},
   "outputs": [
    {
     "name": "stdout",
     "output_type": "stream",
     "text": [
      "Komentar tidak akan mengeluarkan output apapun\n"
     ]
    }
   ],
   "source": [
    "\"\"\"\n",
    "ini juga komentar gaes, tapi bisa banyak baris\n",
    "ini juga komentar gaes, tapi bisa banyak baris\n",
    "ini juga komentar gaes, tapi bisa banyak baris\n",
    "ini juga komentar gaes, tapi bisa banyak baris\n",
    "\"\"\"\n",
    "\n",
    "print(\"Komentar tidak akan mengeluarkan output apapun\")"
   ]
  },
  {
   "cell_type": "markdown",
   "id": "1e53c595-e16d-4ae2-9dbf-cec894efeecf",
   "metadata": {},
   "source": [
    "### Variable ###"
   ]
  },
  {
   "cell_type": "raw",
   "id": "1921e720-338d-41f2-bfcd-9f51f53d55f0",
   "metadata": {},
   "source": [
    "Aturan Penulisan Variabel:\n",
    "\n",
    "Nama variabel boleh diawali menggunakan huruf atau garis bawah _. Contoh: nama, _nama, namaKu, nama_variabel\n",
    "Karakter selanjutnya dapat berupa huruf, garis bawah _ atau angka. Contoh: __nama, n2, nilai1\n",
    "Variabel tidak boleh dimulai dengan angka ataupun simbol.\n",
    "Variabel tidak boleh berupa kata kunci (keyword) yang ada dalam Python. Contoh: if, else, while, for, dan masih banyak lagi"
   ]
  },
  {
   "cell_type": "markdown",
   "id": "3149e64c-ad78-426a-b399-ad7865db6d65",
   "metadata": {},
   "source": [
    "#### contoh : ####"
   ]
  },
  {
   "cell_type": "code",
   "execution_count": 23,
   "id": "82fb5949-1fde-4c88-bb08-7c998f8d2186",
   "metadata": {},
   "outputs": [],
   "source": [
    "# Variabel\n",
    "\n",
    "Nama = \"Yoan\"\n",
    "umur = 19\n",
    "status_mahasiswa = \"aktif\"\n",
    "statusmahasiswa = \"tidak aktif\""
   ]
  },
  {
   "cell_type": "markdown",
   "id": "4d7fb458-b419-4ac3-9222-d17007061d10",
   "metadata": {},
   "source": [
    "### MultiStatment Variabel ###"
   ]
  },
  {
   "cell_type": "code",
   "execution_count": 38,
   "id": "9ac1ff9f-2f4a-4922-b3f6-6066291ff425",
   "metadata": {},
   "outputs": [],
   "source": [
    "nama = \"Sayyid\"\n",
    "a = 10; b = 50\n",
    "kesibukan, keterangan = 'Berkuliah','Institut Teknologi Telkom Surabaya'"
   ]
  },
  {
   "cell_type": "code",
   "execution_count": 40,
   "id": "1433e179-c67d-4d9f-b205-e890c036b282",
   "metadata": {},
   "outputs": [
    {
     "name": "stdout",
     "output_type": "stream",
     "text": [
      "Nama saya Sayyid dan Umur saya adalah 60 Tahun dan sedang Berkuliah di Institut Teknologi Telkom Surabaya\n"
     ]
    }
   ],
   "source": [
    "print(f\"Nama saya {nama} dan Umur saya adalah {a+b} Tahun dan sedang {kesibukan} di {keterangan}\")"
   ]
  },
  {
   "cell_type": "markdown",
   "id": "be1ae8a1-5874-4cf3-8e91-97fd92de6f19",
   "metadata": {},
   "source": [
    "### Input dari Pengguna ###"
   ]
  },
  {
   "cell_type": "code",
   "execution_count": 43,
   "id": "b789fdd1-a4c2-48e1-932e-9b13610334ca",
   "metadata": {},
   "outputs": [
    {
     "name": "stdin",
     "output_type": "stream",
     "text": [
      "Masukkan nama Anda:  Yoan\n",
      "Berapa harganya?:  10000\n"
     ]
    },
    {
     "name": "stdout",
     "output_type": "stream",
     "text": [
      "\n",
      "\n",
      "Halo, aku Yoan dan aku sudah makan ayam goreng yang harganya Rp 10000\n"
     ]
    }
   ],
   "source": [
    "nama = input(\"Masukkan nama Anda: \")\n",
    "makan = 'sudah'\n",
    "harga = int(input(\"Berapa harganya?: \"))\n",
    "\n",
    "print('\\n')\n",
    "print(\"Halo, aku\", nama, 'dan aku', makan, 'makan mie goreng yang harganya Rp', harga)"
   ]
  },
  {
   "cell_type": "markdown",
   "id": "a77ecd1c-3d8d-4970-8a6c-9c9f5c141e13",
   "metadata": {},
   "source": [
    "### Percabangan ###"
   ]
  },
  {
   "cell_type": "code",
   "execution_count": 48,
   "id": "395f850b-466a-45d7-91de-a9cb6d3490bb",
   "metadata": {},
   "outputs": [
    {
     "name": "stdin",
     "output_type": "stream",
     "text": [
      "Masukkan nilaimu:  95\n"
     ]
    },
    {
     "name": "stdout",
     "output_type": "stream",
     "text": [
      "Selamat anda lulus MatKul Algoritma & Pemrograman!\n"
     ]
    }
   ],
   "source": [
    "nilai = int(input(\"Masukkan nilaimu: \"))\n",
    "\n",
    "if nilai >= 70:\n",
    "    print(\"Selamat anda lulus MatKul Algoritma & Pemrograman!\")\n",
    "elif nilai == 20:\n",
    "    print('Semoga Lulus')\n",
    "else:\n",
    "    print(\"Maaf anda tidak lulus\")"
   ]
  },
  {
   "cell_type": "markdown",
   "id": "d1d034e7-83e3-48a0-b453-73fe20481d74",
   "metadata": {},
   "source": [
    "### Looping and While ###"
   ]
  },
  {
   "cell_type": "code",
   "execution_count": 55,
   "id": "86df49e9-442d-4408-9ca8-ecd52ce0b79a",
   "metadata": {},
   "outputs": [
    {
     "name": "stdout",
     "output_type": "stream",
     "text": [
      "1\n",
      "Namaku 1\n",
      "2\n",
      "Namaku 2\n",
      "3\n",
      "Namaku 3\n",
      "4\n",
      "Namaku 4\n"
     ]
    }
   ],
   "source": [
    "for i in range(1,5):\n",
    "    print(i)\n",
    "    print('Namaku',i)"
   ]
  },
  {
   "cell_type": "code",
   "execution_count": 59,
   "id": "8546ac82-6188-45fa-a6c5-25e733e9c02b",
   "metadata": {},
   "outputs": [
    {
     "name": "stdout",
     "output_type": "stream",
     "text": [
      "Nama Saya Yoan\n",
      "Nama panggilan saya Yoan\n",
      "Nama Saya Fira\n",
      "Nama panggilan saya Fira\n",
      "Nama Saya Ode\n",
      "Nama panggilan saya Ode\n",
      "Nama Saya Mella\n",
      "Nama panggilan saya Mella\n"
     ]
    }
   ],
   "source": [
    "names = ['Yoan',\"Fira\",\"Ode\",\"Mella\"]\n",
    "for name in names:\n",
    "    print(\"Nama Saya\",name)\n",
    "    print(\"Nama panggilan saya\",name)"
   ]
  },
  {
   "cell_type": "markdown",
   "id": "4093b245-0ee3-49b9-91f0-9a377a36872b",
   "metadata": {},
   "source": [
    "### Fungsi ###"
   ]
  },
  {
   "cell_type": "code",
   "execution_count": 62,
   "id": "39cd7686-a5b9-415c-baa7-4347ceb1b23b",
   "metadata": {},
   "outputs": [],
   "source": [
    "def jumlah(angka1, angka2):\n",
    "    hasil = angka1+angka2\n",
    "    return hasil\n",
    "\n",
    "def pengurangan(angka1, angka2):\n",
    "    hasil = angka1-angka2\n",
    "    return hasil\n"
   ]
  },
  {
   "cell_type": "code",
   "execution_count": 68,
   "id": "0ccafc1c-a519-445a-ada2-1285492755d7",
   "metadata": {},
   "outputs": [
    {
     "data": {
      "text/plain": [
       "18"
      ]
     },
     "execution_count": 68,
     "metadata": {},
     "output_type": "execute_result"
    }
   ],
   "source": [
    "jumlah(14,4)"
   ]
  },
  {
   "cell_type": "code",
   "execution_count": 70,
   "id": "655569f5-00cc-467c-b988-239b94edca9b",
   "metadata": {},
   "outputs": [
    {
     "data": {
      "text/plain": [
       "3"
      ]
     },
     "execution_count": 70,
     "metadata": {},
     "output_type": "execute_result"
    }
   ],
   "source": [
    "pengurangan(18,15)"
   ]
  }
 ],
 "metadata": {
  "kernelspec": {
   "display_name": "Python 3 (ipykernel)",
   "language": "python",
   "name": "python3"
  },
  "language_info": {
   "codemirror_mode": {
    "name": "ipython",
    "version": 3
   },
   "file_extension": ".py",
   "mimetype": "text/x-python",
   "name": "python",
   "nbconvert_exporter": "python",
   "pygments_lexer": "ipython3",
   "version": "3.12.4"
  }
 },
 "nbformat": 4,
 "nbformat_minor": 5
}
